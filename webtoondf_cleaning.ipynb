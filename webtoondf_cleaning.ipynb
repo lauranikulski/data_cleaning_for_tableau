{
 "cells": [
  {
   "cell_type": "code",
   "execution_count": 1,
   "metadata": {},
   "outputs": [],
   "source": [
    "import pandas as pd\n",
    "import csv\n",
    "import os\n",
    "import opendatasets as od"
   ]
  },
  {
   "cell_type": "code",
   "execution_count": 2,
   "metadata": {},
   "outputs": [],
   "source": [
    "dataset_url  = 'https://www.kaggle.com/datasets/swarnimrai/webtoon-comics-dataset?resource=download'"
   ]
  },
  {
   "cell_type": "code",
   "execution_count": 3,
   "metadata": {},
   "outputs": [
    {
     "name": "stdout",
     "output_type": "stream",
     "text": [
      "Skipping, found downloaded files in \".\\webtoon-comics-dataset\" (use force=True to force download)\n"
     ]
    }
   ],
   "source": [
    "od.download(dataset_url)"
   ]
  },
  {
   "cell_type": "code",
   "execution_count": 4,
   "metadata": {},
   "outputs": [],
   "source": [
    "directory = '.\\webtoon-comics-dataset'"
   ]
  },
  {
   "cell_type": "code",
   "execution_count": 5,
   "metadata": {},
   "outputs": [
    {
     "data": {
      "text/plain": [
       "['Webtoon Dataset.csv']"
      ]
     },
     "execution_count": 5,
     "metadata": {},
     "output_type": "execute_result"
    }
   ],
   "source": [
    "os.listdir(directory)"
   ]
  },
  {
   "cell_type": "code",
   "execution_count": 6,
   "metadata": {},
   "outputs": [],
   "source": [
    "df = pd.read_csv('.\\webtoon-comics-dataset/Webtoon Dataset.csv')"
   ]
  },
  {
   "cell_type": "code",
   "execution_count": 7,
   "metadata": {},
   "outputs": [
    {
     "data": {
      "text/html": [
       "<div>\n",
       "<style scoped>\n",
       "    .dataframe tbody tr th:only-of-type {\n",
       "        vertical-align: middle;\n",
       "    }\n",
       "\n",
       "    .dataframe tbody tr th {\n",
       "        vertical-align: top;\n",
       "    }\n",
       "\n",
       "    .dataframe thead th {\n",
       "        text-align: right;\n",
       "    }\n",
       "</style>\n",
       "<table border=\"1\" class=\"dataframe\">\n",
       "  <thead>\n",
       "    <tr style=\"text-align: right;\">\n",
       "      <th></th>\n",
       "      <th>id</th>\n",
       "      <th>Name</th>\n",
       "      <th>Writer</th>\n",
       "      <th>Likes</th>\n",
       "      <th>Genre</th>\n",
       "      <th>Rating</th>\n",
       "      <th>Subscribers</th>\n",
       "      <th>Summary</th>\n",
       "      <th>Update</th>\n",
       "      <th>Reading Link</th>\n",
       "    </tr>\n",
       "  </thead>\n",
       "  <tbody>\n",
       "    <tr>\n",
       "      <th>0</th>\n",
       "      <td>0</td>\n",
       "      <td>Let's Play</td>\n",
       "      <td>Leeanne M. Krecic (Mongie)</td>\n",
       "      <td>30.6M</td>\n",
       "      <td>Romance</td>\n",
       "      <td>9.62</td>\n",
       "      <td>4.2M</td>\n",
       "      <td>She's young, single and about to achieve her d...</td>\n",
       "      <td>UP EVERY TUESDAY</td>\n",
       "      <td>https://www.webtoons.com/en/romance/letsplay/l...</td>\n",
       "    </tr>\n",
       "    <tr>\n",
       "      <th>1</th>\n",
       "      <td>1</td>\n",
       "      <td>True Beauty</td>\n",
       "      <td>Yaongyi</td>\n",
       "      <td>39.9M</td>\n",
       "      <td>Romance</td>\n",
       "      <td>9.60</td>\n",
       "      <td>6.4M</td>\n",
       "      <td>After binge-watching beauty videos online, a s...</td>\n",
       "      <td>UP EVERY WEDNESDAY</td>\n",
       "      <td>https://www.webtoons.com/en/romance/truebeauty...</td>\n",
       "    </tr>\n",
       "  </tbody>\n",
       "</table>\n",
       "</div>"
      ],
      "text/plain": [
       "   id         Name                      Writer  Likes    Genre  Rating  \\\n",
       "0   0   Let's Play  Leeanne M. Krecic (Mongie)  30.6M  Romance    9.62   \n",
       "1   1  True Beauty                     Yaongyi  39.9M  Romance    9.60   \n",
       "\n",
       "  Subscribers                                            Summary  \\\n",
       "0        4.2M  She's young, single and about to achieve her d...   \n",
       "1        6.4M  After binge-watching beauty videos online, a s...   \n",
       "\n",
       "               Update                                       Reading Link  \n",
       "0    UP EVERY TUESDAY  https://www.webtoons.com/en/romance/letsplay/l...  \n",
       "1  UP EVERY WEDNESDAY  https://www.webtoons.com/en/romance/truebeauty...  "
      ]
     },
     "execution_count": 7,
     "metadata": {},
     "output_type": "execute_result"
    }
   ],
   "source": [
    "df.head(2)"
   ]
  },
  {
   "cell_type": "code",
   "execution_count": 8,
   "metadata": {},
   "outputs": [
    {
     "data": {
      "text/plain": [
       "id                int64\n",
       "Name             object\n",
       "Writer           object\n",
       "Likes            object\n",
       "Genre            object\n",
       "Rating          float64\n",
       "Subscribers      object\n",
       "Summary          object\n",
       "Update           object\n",
       "Reading Link     object\n",
       "dtype: object"
      ]
     },
     "execution_count": 8,
     "metadata": {},
     "output_type": "execute_result"
    }
   ],
   "source": [
    "df.dtypes"
   ]
  },
  {
   "cell_type": "code",
   "execution_count": 9,
   "metadata": {},
   "outputs": [],
   "source": [
    "df.drop(['id', 'Reading Link'], axis=1,inplace=True)"
   ]
  },
  {
   "cell_type": "code",
   "execution_count": 10,
   "metadata": {},
   "outputs": [
    {
     "data": {
      "text/plain": [
       "Name            object\n",
       "Writer          object\n",
       "Likes           object\n",
       "Genre           object\n",
       "Rating         float64\n",
       "Subscribers     object\n",
       "Summary         object\n",
       "Update          object\n",
       "dtype: object"
      ]
     },
     "execution_count": 10,
     "metadata": {},
     "output_type": "execute_result"
    }
   ],
   "source": [
    "df.dtypes"
   ]
  },
  {
   "cell_type": "code",
   "execution_count": 11,
   "metadata": {},
   "outputs": [],
   "source": [
    "df['Likes'] = df['Likes'].str.replace('[^\\d\\.]', '', regex=True)\n",
    "df['Likes'] = pd.to_numeric(df['Likes'])"
   ]
  },
  {
   "cell_type": "code",
   "execution_count": 12,
   "metadata": {},
   "outputs": [],
   "source": [
    "df['Subscribers'] = df['Subscribers'].str.replace('[^\\d\\.]', '', regex=True)\n",
    "df['Subscribers'] = pd.to_numeric(df['Subscribers'])"
   ]
  },
  {
   "cell_type": "code",
   "execution_count": 13,
   "metadata": {},
   "outputs": [
    {
     "data": {
      "text/plain": [
       "Name            object\n",
       "Writer          object\n",
       "Likes          float64\n",
       "Genre           object\n",
       "Rating         float64\n",
       "Subscribers    float64\n",
       "Summary         object\n",
       "Update          object\n",
       "dtype: object"
      ]
     },
     "execution_count": 13,
     "metadata": {},
     "output_type": "execute_result"
    }
   ],
   "source": [
    "df.dtypes"
   ]
  },
  {
   "cell_type": "code",
   "execution_count": 14,
   "metadata": {},
   "outputs": [],
   "source": [
    "df['Update'] = df['Update'].str.replace('UP EVERY', '', regex=True)"
   ]
  },
  {
   "cell_type": "code",
   "execution_count": 15,
   "metadata": {},
   "outputs": [
    {
     "data": {
      "text/html": [
       "<div>\n",
       "<style scoped>\n",
       "    .dataframe tbody tr th:only-of-type {\n",
       "        vertical-align: middle;\n",
       "    }\n",
       "\n",
       "    .dataframe tbody tr th {\n",
       "        vertical-align: top;\n",
       "    }\n",
       "\n",
       "    .dataframe thead th {\n",
       "        text-align: right;\n",
       "    }\n",
       "</style>\n",
       "<table border=\"1\" class=\"dataframe\">\n",
       "  <thead>\n",
       "    <tr style=\"text-align: right;\">\n",
       "      <th></th>\n",
       "      <th>Name</th>\n",
       "      <th>Writer</th>\n",
       "      <th>Likes</th>\n",
       "      <th>Genre</th>\n",
       "      <th>Rating</th>\n",
       "      <th>Subscribers</th>\n",
       "      <th>Summary</th>\n",
       "      <th>Update</th>\n",
       "    </tr>\n",
       "  </thead>\n",
       "  <tbody>\n",
       "    <tr>\n",
       "      <th>0</th>\n",
       "      <td>Let's Play</td>\n",
       "      <td>Leeanne M. Krecic (Mongie)</td>\n",
       "      <td>30.6</td>\n",
       "      <td>Romance</td>\n",
       "      <td>9.62</td>\n",
       "      <td>4.2</td>\n",
       "      <td>She's young, single and about to achieve her d...</td>\n",
       "      <td>TUESDAY</td>\n",
       "    </tr>\n",
       "    <tr>\n",
       "      <th>1</th>\n",
       "      <td>True Beauty</td>\n",
       "      <td>Yaongyi</td>\n",
       "      <td>39.9</td>\n",
       "      <td>Romance</td>\n",
       "      <td>9.60</td>\n",
       "      <td>6.4</td>\n",
       "      <td>After binge-watching beauty videos online, a s...</td>\n",
       "      <td>WEDNESDAY</td>\n",
       "    </tr>\n",
       "    <tr>\n",
       "      <th>2</th>\n",
       "      <td>Midnight Poppy Land</td>\n",
       "      <td>Lilydusk</td>\n",
       "      <td>10.4</td>\n",
       "      <td>Romance</td>\n",
       "      <td>9.81</td>\n",
       "      <td>2.1</td>\n",
       "      <td>After making a grisly discovery in the country...</td>\n",
       "      <td>SATURDAY</td>\n",
       "    </tr>\n",
       "    <tr>\n",
       "      <th>3</th>\n",
       "      <td>Age Matters</td>\n",
       "      <td>Enjelicious</td>\n",
       "      <td>25.9</td>\n",
       "      <td>Romance</td>\n",
       "      <td>9.79</td>\n",
       "      <td>3.5</td>\n",
       "      <td>She's a hopeless romantic who's turning 30's  ...</td>\n",
       "      <td>WEDNESDAY</td>\n",
       "    </tr>\n",
       "    <tr>\n",
       "      <th>4</th>\n",
       "      <td>Unholy Blood</td>\n",
       "      <td>Lina Im / Jeonghyeon Kim</td>\n",
       "      <td>9.9</td>\n",
       "      <td>Supernatural</td>\n",
       "      <td>9.85</td>\n",
       "      <td>1.5</td>\n",
       "      <td>When vampires destroy her chance to have the n...</td>\n",
       "      <td>THURSDAY</td>\n",
       "    </tr>\n",
       "  </tbody>\n",
       "</table>\n",
       "</div>"
      ],
      "text/plain": [
       "                  Name                      Writer  Likes         Genre  \\\n",
       "0           Let's Play  Leeanne M. Krecic (Mongie)   30.6       Romance   \n",
       "1          True Beauty                     Yaongyi   39.9       Romance   \n",
       "2  Midnight Poppy Land                    Lilydusk   10.4       Romance   \n",
       "3          Age Matters                 Enjelicious   25.9       Romance   \n",
       "4         Unholy Blood    Lina Im / Jeonghyeon Kim    9.9  Supernatural   \n",
       "\n",
       "   Rating  Subscribers                                            Summary  \\\n",
       "0    9.62          4.2  She's young, single and about to achieve her d...   \n",
       "1    9.60          6.4  After binge-watching beauty videos online, a s...   \n",
       "2    9.81          2.1  After making a grisly discovery in the country...   \n",
       "3    9.79          3.5  She's a hopeless romantic who's turning 30's  ...   \n",
       "4    9.85          1.5  When vampires destroy her chance to have the n...   \n",
       "\n",
       "       Update  \n",
       "0     TUESDAY  \n",
       "1   WEDNESDAY  \n",
       "2    SATURDAY  \n",
       "3   WEDNESDAY  \n",
       "4    THURSDAY  "
      ]
     },
     "execution_count": 15,
     "metadata": {},
     "output_type": "execute_result"
    }
   ],
   "source": [
    "df.head()"
   ]
  },
  {
   "cell_type": "code",
   "execution_count": null,
   "metadata": {},
   "outputs": [],
   "source": [
    "df.dtypes"
   ]
  },
  {
   "cell_type": "code",
   "execution_count": null,
   "metadata": {},
   "outputs": [],
   "source": [
    "df.to_csv('C:/Users/laura/OneDrive/Desktop/projects/webtoons_datasetcleaned_df.csv', index=False)"
   ]
  },
  {
   "cell_type": "code",
   "execution_count": null,
   "metadata": {},
   "outputs": [],
   "source": []
  }
 ],
 "metadata": {
  "kernelspec": {
   "display_name": "Python 3",
   "language": "python",
   "name": "python3"
  },
  "language_info": {
   "codemirror_mode": {
    "name": "ipython",
    "version": 3
   },
   "file_extension": ".py",
   "mimetype": "text/x-python",
   "name": "python",
   "nbconvert_exporter": "python",
   "pygments_lexer": "ipython3",
   "version": "3.11.0"
  }
 },
 "nbformat": 4,
 "nbformat_minor": 2
}
